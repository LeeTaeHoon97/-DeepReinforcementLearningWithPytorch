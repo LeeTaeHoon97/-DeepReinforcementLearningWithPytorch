{
  "nbformat": 4,
  "nbformat_minor": 0,
  "metadata": {
    "colab": {
      "name": "Untitled01.ipynb",
      "provenance": [],
      "collapsed_sections": [],
      "include_colab_link": true
    },
    "kernelspec": {
      "name": "python3",
      "display_name": "Python 3"
    },
    "language_info": {
      "name": "python"
    },
    "accelerator": "GPU"
  },
  "cells": [
    {
      "cell_type": "markdown",
      "metadata": {
        "id": "view-in-github",
        "colab_type": "text"
      },
      "source": [
        "<a href=\"https://colab.research.google.com/github/LeeTaeHoon97/-DeepReinforcementLearningWithPytorch/blob/main/Untitled01.ipynb\" target=\"_parent\"><img src=\"https://colab.research.google.com/assets/colab-badge.svg\" alt=\"Open In Colab\"/></a>"
      ]
    },
    {
      "cell_type": "code",
      "source": [
        "!pip install torch\n",
        "!pip install image"
      ],
      "metadata": {
        "id": "_2odJSu9uBCp"
      },
      "execution_count": null,
      "outputs": []
    },
    {
      "cell_type": "code",
      "execution_count": null,
      "metadata": {
        "id": "5bYVc3ZMrQ2g"
      },
      "outputs": [],
      "source": [
        "from google.colab import drive\n",
        "drive.mount('/content/drive')"
      ]
    },
    {
      "cell_type": "code",
      "source": [
        "!pip install keras"
      ],
      "metadata": {
        "colab": {
          "base_uri": "https://localhost:8080/"
        },
        "id": "_SVjYWcLVgqv",
        "outputId": "98066f76-5dc7-4816-9cff-b707c07699b2"
      },
      "execution_count": null,
      "outputs": [
        {
          "output_type": "stream",
          "name": "stdout",
          "text": [
            "Requirement already satisfied: keras in /usr/local/lib/python3.7/dist-packages (2.8.0)\n"
          ]
        }
      ]
    },
    {
      "cell_type": "code",
      "source": [
        "!pip install pillow"
      ],
      "metadata": {
        "id": "w9a8mSWbkeOu",
        "outputId": "3fab0b93-bcc6-4656-ecb6-a91dbc2bbcab",
        "colab": {
          "base_uri": "https://localhost:8080/"
        }
      },
      "execution_count": null,
      "outputs": [
        {
          "output_type": "stream",
          "name": "stdout",
          "text": [
            "Requirement already satisfied: pillow in /usr/local/lib/python3.7/dist-packages (7.1.2)\n"
          ]
        }
      ]
    },
    {
      "cell_type": "code",
      "source": [
        "# cd \"/content/drive/MyDrive/GitHub/\"\n"
      ],
      "metadata": {
        "colab": {
          "base_uri": "https://localhost:8080/"
        },
        "id": "SstlygozsyjE",
        "outputId": "3873a558-e876-429b-8c9f-a2b8afab010b"
      },
      "execution_count": null,
      "outputs": [
        {
          "output_type": "stream",
          "name": "stdout",
          "text": [
            "/content/drive/MyDrive/GitHub\n"
          ]
        }
      ]
    },
    {
      "cell_type": "code",
      "source": [
        "# !git clone https://github.com/LeeTaeHoon97/-DeepReinforcementLearningWithPytorch.git"
      ],
      "metadata": {
        "id": "wWs0dPXGs6sa"
      },
      "execution_count": null,
      "outputs": []
    },
    {
      "cell_type": "code",
      "source": [
        "import keras\n",
        "from keras.models import Sequential\n",
        "from keras.layers import Dense, Dropout, Flatten\n",
        "from keras.layers.convolutional import Conv2D, MaxPooling2D\n",
        "import numpy as np\n",
        "np.random.seed(7)"
      ],
      "metadata": {
        "id": "hlXDkrDmt4wL"
      },
      "execution_count": null,
      "outputs": []
    },
    {
      "cell_type": "code",
      "source": [
        "import tensorflow.keras as tk\n",
        "mnist = tk.datasets.mnist\n",
        "(x_train, y_train), (x_test, y_test) = mnist.load_data()"
      ],
      "metadata": {
        "id": "pxosUG2qddbh"
      },
      "execution_count": null,
      "outputs": []
    },
    {
      "cell_type": "code",
      "source": [
        "img_rows = 28\n",
        "img_cols = 28\n",
        "mnist=keras.datasets.mnist\n",
        "(x_train, y_train), (x_test, y_test) = mnist.load_data()\n",
        "\n",
        "input_shape = (1,img_rows, img_cols)\n",
        "x_train = x_train.reshape(x_train.shape[0],1, img_rows, img_cols)\n",
        "x_test = x_test.reshape(x_test.shape[0],1, img_rows, img_cols)"
      ],
      "metadata": {
        "id": "zjKuV0ShVj7d"
      },
      "execution_count": null,
      "outputs": []
    },
    {
      "cell_type": "code",
      "source": [
        "x_train = x_train.astype('float32') / 255.\n",
        "x_test = x_test.astype('float32') / 255.\n",
        "\n",
        "print('x_train shape:', x_train.shape)\n",
        "print(x_train.shape[0], 'train samples')\n",
        "print(x_test.shape[0], 'test samples')\n",
        "\n",
        "num_classes = 10\n",
        "\n",
        "\n",
        "# y_train = keras.utils.np_utils.to_categorical(y_train, num_classes)\n",
        "# y_test = keras.utils.np_utils.to_categorical(y_test, num_classes)"
      ],
      "metadata": {
        "colab": {
          "base_uri": "https://localhost:8080/"
        },
        "id": "DofeVRRNaQn-",
        "outputId": "fcb6bc31-9105-4174-f603-d25213b2efd2"
      },
      "execution_count": null,
      "outputs": [
        {
          "output_type": "stream",
          "name": "stdout",
          "text": [
            "x_train shape: (60000, 1, 28, 28)\n",
            "60000 train samples\n",
            "10000 test samples\n"
          ]
        }
      ]
    },
    {
      "cell_type": "code",
      "source": [
        "y_train.shape"
      ],
      "metadata": {
        "colab": {
          "base_uri": "https://localhost:8080/"
        },
        "id": "hfa_N3I3eCld",
        "outputId": "636277c8-4040-4409-deab-e3531a2c7867"
      },
      "execution_count": null,
      "outputs": [
        {
          "output_type": "execute_result",
          "data": {
            "text/plain": [
              "(60000,)"
            ]
          },
          "metadata": {},
          "execution_count": 102
        }
      ]
    },
    {
      "cell_type": "code",
      "source": [
        "y_test.shape"
      ],
      "metadata": {
        "colab": {
          "base_uri": "https://localhost:8080/"
        },
        "id": "NBIJs6D1hxTw",
        "outputId": "579bec2c-aa5e-455e-db02-91a6cca217d5"
      },
      "execution_count": null,
      "outputs": [
        {
          "output_type": "execute_result",
          "data": {
            "text/plain": [
              "(10000,)"
            ]
          },
          "metadata": {},
          "execution_count": 103
        }
      ]
    },
    {
      "cell_type": "code",
      "source": [
        "y_train.dtype"
      ],
      "metadata": {
        "id": "D8NeZNfGf5P2",
        "colab": {
          "base_uri": "https://localhost:8080/"
        },
        "outputId": "88a33baf-6b01-4c31-ddb2-dee6a213170d"
      },
      "execution_count": null,
      "outputs": [
        {
          "output_type": "execute_result",
          "data": {
            "text/plain": [
              "dtype('uint8')"
            ]
          },
          "metadata": {},
          "execution_count": 104
        }
      ]
    },
    {
      "cell_type": "code",
      "source": [
        "import torch\n",
        "import torch.nn as nn\n",
        "import torch.nn.functional as F\n",
        "y_train=torch.LongTensor(y_train)\n",
        "# y_train=F.one_hot(y_train, num_classes)\n",
        "\n",
        "y_test=torch.LongTensor(y_test)\n",
        "# y_test=F.one_hot(y_test, num_classes)"
      ],
      "metadata": {
        "id": "urUGxgtydqGJ"
      },
      "execution_count": null,
      "outputs": []
    },
    {
      "cell_type": "code",
      "source": [
        "# y_train=torch.Tensor.float(y_train)\n",
        "# y_test=torch.Tensor.float(y_test)"
      ],
      "metadata": {
        "id": "-93wDJWIJxCT"
      },
      "execution_count": null,
      "outputs": []
    },
    {
      "cell_type": "code",
      "source": [
        "x_train.shape"
      ],
      "metadata": {
        "colab": {
          "base_uri": "https://localhost:8080/"
        },
        "id": "eK2mwXyNk0eA",
        "outputId": "f8faf349-45c2-4b03-ebf1-d5cd75ea7e58"
      },
      "execution_count": null,
      "outputs": [
        {
          "output_type": "execute_result",
          "data": {
            "text/plain": [
              "(60000, 1, 28, 28)"
            ]
          },
          "metadata": {},
          "execution_count": 107
        }
      ]
    },
    {
      "cell_type": "code",
      "source": [
        "input_shape"
      ],
      "metadata": {
        "colab": {
          "base_uri": "https://localhost:8080/"
        },
        "id": "lEox-20NlWfu",
        "outputId": "a64e2589-e5e4-498a-9fc2-c58e8ad5da25"
      },
      "execution_count": null,
      "outputs": [
        {
          "output_type": "execute_result",
          "data": {
            "text/plain": [
              "(1, 28, 28)"
            ]
          },
          "metadata": {},
          "execution_count": 108
        }
      ]
    },
    {
      "cell_type": "code",
      "source": [
        "# class CNN_Network(nn.Module):\n",
        "#     def __init__(self):\n",
        "#         super(CNN_Network, self).__init__()\n",
        "\n",
        "#         self.layer1 = nn.Sequential(\n",
        "#             nn.Conv2d(3, 16, stride=1, kernel_size=3, padding=1),\n",
        "#             nn.BatchNorm2d(16),\n",
        "#             nn.ReLU(inplace=True)\n",
        "\n",
        "\n",
        "#         )\n",
        "#         self.layer2 = nn.Sequential(\n",
        "#             nn.Conv2d(16, 32, stride=1, kernel_size=3, padding=1),\n",
        "#             nn.BatchNorm2d(32),\n",
        "#             nn.ReLU(inplace=True),\n",
        "#             nn.MaxPool2d(stride=2, kernel_size=2),  # 30 80\n",
        "#         )\n",
        "#         self.layer3 = nn.Sequential(\n",
        "#             nn.Conv2d(32, 64, stride=1, kernel_size=3, padding=1),\n",
        "#             nn.BatchNorm2d(64),\n",
        "#             nn.ReLU(inplace=True),\n",
        "#             nn.Conv2d(64, 128, kernel_size=3, stride=1, padding=1),\n",
        "#             nn.BatchNorm2d(128),\n",
        "#             nn.ReLU(inplace=True),\n",
        "#             nn.MaxPool2d(kernel_size=2, stride=2),   # 15 40\n",
        "#         )\n",
        "\n",
        "#         self.fc = nn.Sequential(\n",
        "#             nn.Linear(256 * 15 * 40, 2048),\n",
        "#             nn.ReLU(inplace=True),\n",
        "#             nn.Linear(2048, 1024),\n",
        "#             nn.ReLU(inplace=True),\n",
        "#             nn.Linear(1024, 40)\n",
        "#         )\n",
        "\n",
        "#     def forward(self, x):\n",
        "#         x = self.layer1(x)\n",
        "#         x = self.layer2(x)\n",
        "#         x = self.layer3(x)\n",
        "\n",
        "#         x = x.view(x.size(0), -1)\n",
        "#         x = self.fc(x)\n",
        "#         x = F.softmax(x, dim=-1)\n",
        "#         return x"
      ],
      "metadata": {
        "id": "VrqhtxTbLSxk"
      },
      "execution_count": null,
      "outputs": []
    },
    {
      "cell_type": "code",
      "source": [
        "class Residual_CNN(nn.Module):\n",
        "    def __init__(self,reg_const, input_dim,  output_dim, hidden_layers):\n",
        "        super(Residual_CNN, self).__init__()\n",
        "        #filter(out_channel), kernel_size는 config의 hidden layer 그대로 복사\n",
        "        #filter = 75 , kernel = (4,4)\n",
        "        #padding = same -> 1         -> this was solved since Pytorch 1.10.0 “same” keyword is accepted as input for padding for conv2d\n",
        "        #x = add([input_block, x])   ( https://tensorflow.google.cn/api_docs/python/tf/keras/layers/add  )    -> torch.sum https://pytorch.org/docs/stable/generated/torch.sum.html       \n",
        "        #l2 regularizer는 loss파트에서 weight decay를 조정  https://discuss.pytorch.org/t/how-to-implement-pytorch-equivalent-of-keras-kernel-weight-regulariser/99773\n",
        "        self.hidden_layer = nn.Sequential(\n",
        "            nn.Conv2d(self.input_dim, 75,  kernel_size=4, padding=\"same\"),\n",
        "            nn.BatchNorm2d(75),\n",
        "            nn.LeakyReLU()\n",
        "        )\n",
        "\n",
        "        self.conv_and_residual_layer = nn.Sequential(\n",
        "            #conv_layer\n",
        "            nn.Conv2d(75, 75,  kernel_size=4, padding=\"same\"),\n",
        "            nn.BatchNorm2d(75),\n",
        "            nn.LeakyReLU(),\n",
        "            \n",
        "            #residual_layer\n",
        "            nn.Conv2d(75, 75,  kernel_size=4, padding=\"same\"),\n",
        "            nn.BatchNorm2d(75)\n",
        "        )\n",
        "        \n",
        "        self.value_head1 = nn.Sequential(\n",
        "            nn.Conv2d(75, 1,  kernel_size=1, padding=\"same\"),\n",
        "            nn.BatchNorm2d(1),\n",
        "            nn.LeakyReLU()\n",
        "        )\n",
        "        self.value_head2 = nn.Sequential(\n",
        "            nn.Linear(\"vh.size(0)\",20)\n",
        "            nn.LeakyReLU(),\n",
        "            nn.Linear(20,1),\n",
        "            nn.Tanh()\n",
        "        )\n",
        "\n",
        "        self.policy_head1 = nn.Sequential(\n",
        "            nn.Conv2d(75, 1,  kernel_size=1, padding=\"same\"),\n",
        "            nn.BatchNorm2d(1),\n",
        "            nn.LeakyReLU()\n",
        "        )\n",
        "        self.policy_head2 = nn.Sequential(\n",
        "            nn.Linear(\"ph.size(0)\", output_dim)\n",
        "        )\n",
        "\n",
        "    def forward(self, x):\n",
        "        input_block=x\n",
        "        x=self.hidden_layer(x)\n",
        "\n",
        "        for i in range(5):\n",
        "          x=self.conv_and_residual_layer(x)\n",
        "          x=torch.sum([input_block,x], keepdim=True)\n",
        "          x=F.leaky_relu(x)\n",
        "\n",
        "        vh=self.value_head1(x)\n",
        "        vh = vh.view(vh.size(0), -1)\n",
        "        vh=self.value_head2(vh)\n",
        "\n",
        "        ph=self.policy_head1(x)\n",
        "        ph=ph.view(ph.size(0),-1)\n",
        "        ph=self.policy_head2(ph)\n",
        "\n",
        "        return x"
      ],
      "metadata": {
        "id": "Mm5da3p-aWj3"
      },
      "execution_count": null,
      "outputs": []
    },
    {
      "cell_type": "code",
      "source": [
        "class Net(torch.nn.Module):\n",
        "    def __init__(self):\n",
        "        super(Net,self).__init__()\n",
        "\n",
        "        self.conv1=torch.nn.Conv2d(1,32,kernel_size=5,padding=0)\n",
        "        # ((W-K+2P)/S)+1 = (28-5+0)/1+1=24\n",
        "        self.conv2=torch.nn.Conv2d(32,64,kernel_size=2,padding=0)\n",
        "        #(6-2+0)/1+1=5\n",
        "        self.drop25=torch.nn.Dropout2d(0.25)\n",
        "        self.drop50=torch.nn.Dropout2d(0.5)\n",
        "        self.mp1=torch.nn.MaxPool2d(2,stride=2)\n",
        "        self.mp2=torch.nn.MaxPool2d(2)\n",
        "        self.fc1=torch.nn.Linear(5*5*64,1000)\n",
        "        self.fc2=torch.nn.Linear(1000,num_classes)\n",
        "    def forward(self,x):\n",
        "        x=self.mp1(F.relu(self.conv1(x)))\n",
        "        #24 -> 6\n",
        "        x=self.mp2(F.relu(self.conv2(x)))\n",
        "        #6->5\n",
        "        x=self.drop25(x)\n",
        "        x = x.view(x.size(0), -1)\n",
        "        x=self.fc1(x)\n",
        "        x=self.drop50(x)\n",
        "        x=self.fc2(x)\n",
        "\n",
        "        return (x)"
      ],
      "metadata": {
        "id": "tLQBcILdkAst"
      },
      "execution_count": null,
      "outputs": []
    },
    {
      "cell_type": "code",
      "source": [
        "# x_train=torch.as_tensor(x_train)\n",
        "# x_test=torch.as_tensor(x_test)\n",
        "# x_test=x_test.cuda()\n",
        "# y_test=y_test.cuda()\n",
        "# x_train=x_train.cuda()\n",
        "# y_train=y_train.cuda()"
      ],
      "metadata": {
        "id": "FM8iA4z2Tf54"
      },
      "execution_count": null,
      "outputs": []
    },
    {
      "cell_type": "code",
      "source": [
        "from torchsummary import summary as summary_\n",
        "model=Net().cuda()\n",
        "summary_(model,input_shape)"
      ],
      "metadata": {
        "id": "13yATk8hFijP",
        "outputId": "693e3bec-257b-4680-fafc-4280f1279401",
        "colab": {
          "base_uri": "https://localhost:8080/"
        }
      },
      "execution_count": null,
      "outputs": [
        {
          "output_type": "stream",
          "name": "stdout",
          "text": [
            "----------------------------------------------------------------\n",
            "        Layer (type)               Output Shape         Param #\n",
            "================================================================\n",
            "            Conv2d-1           [-1, 32, 24, 24]             832\n",
            "         MaxPool2d-2           [-1, 32, 12, 12]               0\n",
            "            Conv2d-3           [-1, 64, 11, 11]           8,256\n",
            "         MaxPool2d-4             [-1, 64, 5, 5]               0\n",
            "         Dropout2d-5             [-1, 64, 5, 5]               0\n",
            "            Linear-6                 [-1, 1000]       1,601,000\n",
            "         Dropout2d-7                 [-1, 1000]               0\n",
            "            Linear-8                   [-1, 10]          10,010\n",
            "================================================================\n",
            "Total params: 1,620,098\n",
            "Trainable params: 1,620,098\n",
            "Non-trainable params: 0\n",
            "----------------------------------------------------------------\n",
            "Input size (MB): 0.00\n",
            "Forward/backward pass size (MB): 0.27\n",
            "Params size (MB): 6.18\n",
            "Estimated Total Size (MB): 6.46\n",
            "----------------------------------------------------------------\n"
          ]
        }
      ]
    },
    {
      "cell_type": "code",
      "source": [
        "# model = Sequential()\n",
        "# model.add(Conv2D(32, kernel_size=(5, 5), strides=(1, 1), padding='same', activation='relu', input_shape=input_shape))\n",
        "# model.add(MaxPooling2D(pool_size=(2, 2), strides=(2, 2)))\n",
        "# model.add(Conv2D(64, (2, 2), activation='relu', padding='same'))\n",
        "# model.add(MaxPooling2D(pool_size=(2, 2)))\n",
        "# model.add(Dropout(0.25))\n",
        "# model.add(Flatten())\n",
        "# model.add(Dense(1000, activation='relu'))\n",
        "# model.add(Dropout(0.5))\n",
        "# model.add(Dense(num_classes, activation='softmax'))\n",
        "# model.summary()\n",
        "\n",
        "# model.compile(loss='categorical_crossentropy', optimizer='adam', metrics=['accuracy'])"
      ],
      "metadata": {
        "id": "jCdF4PBUaR9d"
      },
      "execution_count": null,
      "outputs": []
    },
    {
      "cell_type": "code",
      "source": [
        ""
      ],
      "metadata": {
        "id": "w1wa1ERkUHnA"
      },
      "execution_count": null,
      "outputs": []
    },
    {
      "cell_type": "code",
      "source": [
        "X_train=torch.from_numpy(x_train)\n",
        "X_train.shape"
      ],
      "metadata": {
        "id": "Ty6uX2aEOrGv",
        "outputId": "f341d61b-041c-47e2-d69a-102124fe3d5b",
        "colab": {
          "base_uri": "https://localhost:8080/"
        }
      },
      "execution_count": null,
      "outputs": [
        {
          "output_type": "execute_result",
          "data": {
            "text/plain": [
              "torch.Size([60000, 1, 28, 28])"
            ]
          },
          "metadata": {},
          "execution_count": 114
        }
      ]
    },
    {
      "cell_type": "code",
      "source": [
        "y_train.shape"
      ],
      "metadata": {
        "colab": {
          "base_uri": "https://localhost:8080/"
        },
        "id": "-U8yUJ8OOmaL",
        "outputId": "85165a51-0253-4888-8559-977bbc733d98"
      },
      "execution_count": null,
      "outputs": [
        {
          "output_type": "execute_result",
          "data": {
            "text/plain": [
              "torch.Size([60000])"
            ]
          },
          "metadata": {},
          "execution_count": 115
        }
      ]
    },
    {
      "cell_type": "code",
      "source": [
        "from torch.utils.data import DataLoader,TensorDataset\n",
        "ds=TensorDataset(X_train.cuda(),y_train.cuda())\n",
        "train_loader=DataLoader(ds,batch_size=1)"
      ],
      "metadata": {
        "id": "pjw2aSV4N_kY"
      },
      "execution_count": null,
      "outputs": []
    },
    {
      "cell_type": "code",
      "source": [
        ""
      ],
      "metadata": {
        "id": "QUkIA_BxVr16"
      },
      "execution_count": null,
      "outputs": []
    },
    {
      "cell_type": "code",
      "source": [
        "# y_train=y_train.reshape([-1,1])\n",
        "# y_test=y_test.reshape([-1,1])"
      ],
      "metadata": {
        "id": "saxHydtFRZpZ"
      },
      "execution_count": null,
      "outputs": []
    },
    {
      "cell_type": "code",
      "source": [
        "from tqdm import tqdm"
      ],
      "metadata": {
        "id": "RS23rxsNTxXk"
      },
      "execution_count": null,
      "outputs": []
    },
    {
      "cell_type": "code",
      "source": [
        "device=torch.device(\"cuda\")\n",
        "model = Net().to(device).train() # CNN instance 생성\n",
        "learning_rate=0.001\n",
        "# Cost Function과 Optimizer 선택\n",
        "\n",
        "\n",
        "\n",
        "optimizer = torch.optim.Adam(model.parameters(), lr = learning_rate)\n",
        "epochs=10\n",
        "criterion = torch.nn.CrossEntropyLoss().to(device)\n",
        "for epoch in range(epochs): # epochs수만큼 반복\n",
        "    avg_cost = 0\n",
        " \n",
        "    for id_batch,(data, target) in enumerate(tqdm.tqdm(train_loader)):\n",
        "        # print(\"im Target : \",data.dtype,target.dtype)\n",
        "        # data = data\n",
        "        # target = target\n",
        "        optimizer.zero_grad() # 모든 model의 gradient 값을 0으로 설정\n",
        "        hypothesis = model(data) # 모델을 forward pass해 결과값 저장 \n",
        "        # print(target)\n",
        "        # if id_batch==10:break\n",
        "        \n",
        "          # print(target.dtype)\n",
        "        # target=number[torch.argmax(target)]\n",
        "        # print(\"im Target2 : \",target.shape)\n",
        "        # print(\"im Target3 : \",target)\n",
        "        cost = criterion((hypothesis), target) # output과 target의 loss 계산\n",
        "        cost.backward() # backward 함수를 호출해 gradient 계산\n",
        "        optimizer.step() # 모델의 학습 파라미터 갱신\n",
        " \n",
        "        avg_cost += cost / len(train_loader) # loss 값을 변수에 누적하고 train_loader의 개수로 나눔 = 평균\n",
        "  \n",
        "    print('[Epoch: {:>4}] cost = {:>.9}'.format(epoch + 1, avg_cost))"
      ],
      "metadata": {
        "id": "ClTNpxM1L07C",
        "outputId": "01130a54-c16f-4615-f363-c9cb73a59613",
        "colab": {
          "base_uri": "https://localhost:8080/"
        }
      },
      "execution_count": null,
      "outputs": [
        {
          "output_type": "stream",
          "name": "stderr",
          "text": [
            "100%|██████████| 10000/10000 [00:34<00:00, 292.04it/s]\n"
          ]
        },
        {
          "output_type": "stream",
          "name": "stdout",
          "text": [
            "[Epoch:    1] cost = 0.314026117\n"
          ]
        },
        {
          "output_type": "stream",
          "name": "stderr",
          "text": [
            "100%|██████████| 10000/10000 [00:34<00:00, 285.77it/s]\n"
          ]
        },
        {
          "output_type": "stream",
          "name": "stdout",
          "text": [
            "[Epoch:    2] cost = 0.218840986\n"
          ]
        },
        {
          "output_type": "stream",
          "name": "stderr",
          "text": [
            "100%|██████████| 10000/10000 [00:34<00:00, 293.70it/s]\n"
          ]
        },
        {
          "output_type": "stream",
          "name": "stdout",
          "text": [
            "[Epoch:    3] cost = 0.228432\n"
          ]
        },
        {
          "output_type": "stream",
          "name": "stderr",
          "text": [
            "100%|██████████| 10000/10000 [00:34<00:00, 292.33it/s]\n"
          ]
        },
        {
          "output_type": "stream",
          "name": "stdout",
          "text": [
            "[Epoch:    4] cost = 0.207802892\n"
          ]
        },
        {
          "output_type": "stream",
          "name": "stderr",
          "text": [
            "100%|██████████| 10000/10000 [00:34<00:00, 287.89it/s]\n"
          ]
        },
        {
          "output_type": "stream",
          "name": "stdout",
          "text": [
            "[Epoch:    5] cost = 0.231758252\n"
          ]
        },
        {
          "output_type": "stream",
          "name": "stderr",
          "text": [
            "100%|██████████| 10000/10000 [00:34<00:00, 287.58it/s]\n"
          ]
        },
        {
          "output_type": "stream",
          "name": "stdout",
          "text": [
            "[Epoch:    6] cost = 0.239892915\n"
          ]
        },
        {
          "output_type": "stream",
          "name": "stderr",
          "text": [
            "100%|██████████| 10000/10000 [00:34<00:00, 289.50it/s]\n"
          ]
        },
        {
          "output_type": "stream",
          "name": "stdout",
          "text": [
            "[Epoch:    7] cost = 0.253395796\n"
          ]
        },
        {
          "output_type": "stream",
          "name": "stderr",
          "text": [
            "100%|██████████| 10000/10000 [00:34<00:00, 286.18it/s]\n"
          ]
        },
        {
          "output_type": "stream",
          "name": "stdout",
          "text": [
            "[Epoch:    8] cost = 0.301700771\n"
          ]
        },
        {
          "output_type": "stream",
          "name": "stderr",
          "text": [
            "100%|██████████| 10000/10000 [00:34<00:00, 290.92it/s]\n"
          ]
        },
        {
          "output_type": "stream",
          "name": "stdout",
          "text": [
            "[Epoch:    9] cost = 0.2878429\n"
          ]
        },
        {
          "output_type": "stream",
          "name": "stderr",
          "text": [
            "100%|██████████| 10000/10000 [00:34<00:00, 290.20it/s]"
          ]
        },
        {
          "output_type": "stream",
          "name": "stdout",
          "text": [
            "[Epoch:   10] cost = 0.290488034\n"
          ]
        },
        {
          "output_type": "stream",
          "name": "stderr",
          "text": [
            "\n"
          ]
        }
      ]
    },
    {
      "cell_type": "code",
      "source": [
        "# model.compile(loss='categorical_crossentropy', optimizer='adam', metrics=['accuracy'])\n",
        "# hist = model.fit(x_train, y_train, batch_size=128, epochs=12, verbose=1, validation_data=(x_test, y_test))\n",
        "\n",
        "# score = model.evaluate(x_test, y_test, verbose=0)\n",
        "# print('Test loss:', score[0])\n",
        "# print('Test accuracy:', score[1])"
      ],
      "metadata": {
        "id": "pV7EdSeCaXwO"
      },
      "execution_count": null,
      "outputs": []
    },
    {
      "cell_type": "code",
      "source": [
        "X_test=torch.from_numpy(x_test)\n",
        "ds2=TensorDataset(X_test.cuda(),y_test.cuda())\n",
        "test_loader=DataLoader(ds2,batch_size=1)"
      ],
      "metadata": {
        "id": "hWzB-HF0be_f"
      },
      "execution_count": null,
      "outputs": []
    },
    {
      "cell_type": "code",
      "source": [
        "model.eval() # evaluate mode로 전환 dropout 이나 batch_normalization 해제 \n",
        " \n",
        "with torch.no_grad(): # grad 해제 \n",
        "    correct = 0\n",
        "    total = 0\n",
        "    for id_batch, (data, target) in enumerate(tqdm.tqdm( test_loader)):\n",
        "        \n",
        "        data = data.to(device)\n",
        "        target = target.to(device)\n",
        " \n",
        "        out = model(data)\n",
        "        preds = torch.max(out.data, 1)[1] # 출력이 분류 각각에 대한 값으로 나타나기 때문에, 가장 높은 값을 갖는 인덱스를 추출\n",
        "        total += len(target) # 전체 클래스 개수 \n",
        "        correct += (preds==target).sum().item() # 예측값과 실제값이 같은지 비교\n",
        "        \n",
        "    print('Test Accuracy: ', 100.*correct/total, '%')\n"
      ],
      "metadata": {
        "colab": {
          "base_uri": "https://localhost:8080/"
        },
        "id": "-yDBrN-ybeJv",
        "outputId": "34dec219-ac0d-43af-e799-341cc76581c7"
      },
      "execution_count": null,
      "outputs": [
        {
          "output_type": "stream",
          "name": "stderr",
          "text": [
            "100%|██████████| 10000/10000 [00:09<00:00, 1105.52it/s]"
          ]
        },
        {
          "output_type": "stream",
          "name": "stdout",
          "text": [
            "Test Accuracy:  96.41 %\n"
          ]
        },
        {
          "output_type": "stream",
          "name": "stderr",
          "text": [
            "\n"
          ]
        }
      ]
    },
    {
      "cell_type": "code",
      "source": [
        ""
      ],
      "metadata": {
        "id": "W0MsO9zibeF3"
      },
      "execution_count": null,
      "outputs": []
    },
    {
      "cell_type": "code",
      "source": [
        "import matplotlib.pyplot as plt\n",
        "\n",
        "n = 0\n",
        "plt.imshow(x_test[n].reshape(28, 28), cmap='Greys', interpolation='nearest')\n",
        "plt.show()\n",
        "\n",
        "print('The Answer is ', model.predict_classes(x_test[n].reshape((1, 28, 28, 1))))"
      ],
      "metadata": {
        "id": "8YJaIxXFaZYa",
        "colab": {
          "base_uri": "https://localhost:8080/",
          "height": 585
        },
        "outputId": "b0ce95a4-ee1c-4209-c15c-c798c2c1fbb6"
      },
      "execution_count": null,
      "outputs": [
        {
          "output_type": "display_data",
          "data": {
            "text/plain": [
              "<Figure size 432x288 with 1 Axes>"
            ],
            "image/png": "[encoded data removed]"
          },
          "metadata": {
            "needs_background": "light"
          }
        },
        {
          "output_type": "error",
          "ename": "AttributeError",
          "evalue": "ignored",
          "traceback": [
            "\u001b[0;31m---------------------------------------------------------------------------\u001b[0m",
            "\u001b[0;31mAttributeError\u001b[0m                            Traceback (most recent call last)",
            "\u001b[0;32m<ipython-input-146-4c4e1ff944a5>\u001b[0m in \u001b[0;36m<module>\u001b[0;34m()\u001b[0m\n\u001b[1;32m      5\u001b[0m \u001b[0mplt\u001b[0m\u001b[0;34m.\u001b[0m\u001b[0mshow\u001b[0m\u001b[0;34m(\u001b[0m\u001b[0;34m)\u001b[0m\u001b[0;34m\u001b[0m\u001b[0;34m\u001b[0m\u001b[0m\n\u001b[1;32m      6\u001b[0m \u001b[0;34m\u001b[0m\u001b[0m\n\u001b[0;32m----> 7\u001b[0;31m \u001b[0mprint\u001b[0m\u001b[0;34m(\u001b[0m\u001b[0;34m'The Answer is '\u001b[0m\u001b[0;34m,\u001b[0m \u001b[0mmodel\u001b[0m\u001b[0;34m.\u001b[0m\u001b[0mpredict_classes\u001b[0m\u001b[0;34m(\u001b[0m\u001b[0mx_test\u001b[0m\u001b[0;34m[\u001b[0m\u001b[0mn\u001b[0m\u001b[0;34m]\u001b[0m\u001b[0;34m.\u001b[0m\u001b[0mreshape\u001b[0m\u001b[0;34m(\u001b[0m\u001b[0;34m(\u001b[0m\u001b[0;36m1\u001b[0m\u001b[0;34m,\u001b[0m \u001b[0;36m28\u001b[0m\u001b[0;34m,\u001b[0m \u001b[0;36m28\u001b[0m\u001b[0;34m,\u001b[0m \u001b[0;36m1\u001b[0m\u001b[0;34m)\u001b[0m\u001b[0;34m)\u001b[0m\u001b[0;34m)\u001b[0m\u001b[0;34m)\u001b[0m\u001b[0;34m\u001b[0m\u001b[0;34m\u001b[0m\u001b[0m\n\u001b[0m",
            "\u001b[0;32m/usr/local/lib/python3.7/dist-packages/torch/nn/modules/module.py\u001b[0m in \u001b[0;36m__getattr__\u001b[0;34m(self, name)\u001b[0m\n\u001b[1;32m   1176\u001b[0m                 \u001b[0;32mreturn\u001b[0m \u001b[0mmodules\u001b[0m\u001b[0;34m[\u001b[0m\u001b[0mname\u001b[0m\u001b[0;34m]\u001b[0m\u001b[0;34m\u001b[0m\u001b[0;34m\u001b[0m\u001b[0m\n\u001b[1;32m   1177\u001b[0m         raise AttributeError(\"'{}' object has no attribute '{}'\".format(\n\u001b[0;32m-> 1178\u001b[0;31m             type(self).__name__, name))\n\u001b[0m\u001b[1;32m   1179\u001b[0m \u001b[0;34m\u001b[0m\u001b[0m\n\u001b[1;32m   1180\u001b[0m     \u001b[0;32mdef\u001b[0m \u001b[0m__setattr__\u001b[0m\u001b[0;34m(\u001b[0m\u001b[0mself\u001b[0m\u001b[0;34m,\u001b[0m \u001b[0mname\u001b[0m\u001b[0;34m:\u001b[0m \u001b[0mstr\u001b[0m\u001b[0;34m,\u001b[0m \u001b[0mvalue\u001b[0m\u001b[0;34m:\u001b[0m \u001b[0mUnion\u001b[0m\u001b[0;34m[\u001b[0m\u001b[0mTensor\u001b[0m\u001b[0;34m,\u001b[0m \u001b[0;34m'Module'\u001b[0m\u001b[0;34m]\u001b[0m\u001b[0;34m)\u001b[0m \u001b[0;34m->\u001b[0m \u001b[0;32mNone\u001b[0m\u001b[0;34m:\u001b[0m\u001b[0;34m\u001b[0m\u001b[0;34m\u001b[0m\u001b[0m\n",
            "\u001b[0;31mAttributeError\u001b[0m: 'Net' object has no attribute 'predict_classes'"
          ]
        }
      ]
    },
    {
      "cell_type": "code",
      "source": [
        "import PIL\n",
        "def tensor_to_image(tensor):\n",
        "    tensor = tensor*255\n",
        "    tensor = np.array(tensor, dtype=np.uint8)\n",
        "    if np.ndim(tensor)>3:\n",
        "        assert tensor.shape[0] == 1\n",
        "        tensor = tensor[0]\n",
        "    return PIL.Image.fromarray(tensor)"
      ],
      "metadata": {
        "id": "erpcPZp4bglQ"
      },
      "execution_count": null,
      "outputs": []
    },
    {
      "cell_type": "code",
      "source": [
        "train_loader"
      ],
      "metadata": {
        "id": "Dtzmh6rukWDQ",
        "outputId": "a5de8f04-2688-416d-da9d-f0ba3bf58999",
        "colab": {
          "base_uri": "https://localhost:8080/"
        }
      },
      "execution_count": null,
      "outputs": [
        {
          "output_type": "execute_result",
          "data": {
            "text/plain": [
              "<torch.utils.data.dataloader.DataLoader at 0x7fb1c973b9d0>"
            ]
          },
          "metadata": {},
          "execution_count": 159
        }
      ]
    },
    {
      "cell_type": "code",
      "source": [
        "i=4\n",
        "for j,(x,y) in enumerate(train_loader):\n",
        "  print(x[0].shape)\n",
        "  plt.imshow(x.cpu()[0][0])\n",
        "  print(y.cpu())\n",
        "  break\n",
        "\n",
        "# y_train[i]"
      ],
      "metadata": {
        "id": "yvsc0B0CkN3o",
        "outputId": "31c73a59-ed79-4f33-f573-3e547e10f065",
        "colab": {
          "base_uri": "https://localhost:8080/",
          "height": 302
        }
      },
      "execution_count": null,
      "outputs": [
        {
          "output_type": "stream",
          "name": "stdout",
          "text": [
            "torch.Size([1, 28, 28])\n",
            "tensor([7])\n"
          ]
        },
        {
          "output_type": "display_data",
          "data": {
            "text/plain": [
              "<Figure size 432x288 with 1 Axes>"
            ],
            "image/png": "[encoded data removed]"
          },
          "metadata": {
            "needs_background": "light"
          }
        }
      ]
    },
    {
      "cell_type": "code",
      "source": [
        ""
      ],
      "metadata": {
        "id": "a033N1g8kVBx"
      },
      "execution_count": null,
      "outputs": []
    }
  ]
}